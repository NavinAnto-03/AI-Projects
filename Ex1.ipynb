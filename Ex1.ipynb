{
  "nbformat": 4,
  "nbformat_minor": 0,
  "metadata": {
    "colab": {
      "provenance": [],
      "authorship_tag": "ABX9TyOB3X3jACJ2iYmXKoHU8G/1",
      "include_colab_link": true
    },
    "kernelspec": {
      "name": "python3",
      "display_name": "Python 3"
    },
    "language_info": {
      "name": "python"
    }
  },
  "cells": [
    {
      "cell_type": "markdown",
      "metadata": {
        "id": "view-in-github",
        "colab_type": "text"
      },
      "source": [
        "<a href=\"https://colab.research.google.com/github/NavinAnto-03/AI-Projects/blob/main/Ex1.ipynb\" target=\"_parent\"><img src=\"https://colab.research.google.com/assets/colab-badge.svg\" alt=\"Open In Colab\"/></a>"
      ]
    },
    {
      "cell_type": "code",
      "execution_count": null,
      "metadata": {
        "colab": {
          "base_uri": "https://localhost:8080/",
          "height": 1000
        },
        "id": "V_Bs5Wo3XDUC",
        "outputId": "328a1f1c-29bf-4737-f4f3-d705878f655e"
      },
      "outputs": [
        {
          "output_type": "stream",
          "name": "stdout",
          "text": [
            "Training model for letters...\n",
            "Epoch 1/5\n"
          ]
        },
        {
          "output_type": "stream",
          "name": "stderr",
          "text": [
            "/usr/local/lib/python3.11/dist-packages/keras/src/layers/reshaping/flatten.py:37: UserWarning: Do not pass an `input_shape`/`input_dim` argument to a layer. When using Sequential models, prefer using an `Input(shape)` object as the first layer in the model instead.\n",
            "  super().__init__(**kwargs)\n"
          ]
        },
        {
          "output_type": "stream",
          "name": "stdout",
          "text": [
            "\u001b[1m694/694\u001b[0m \u001b[32m━━━━━━━━━━━━━━━━━━━━\u001b[0m\u001b[37m\u001b[0m \u001b[1m20s\u001b[0m 25ms/step - accuracy: 0.6505 - loss: 1.2325 - val_accuracy: 0.8322 - val_loss: 0.5474\n",
            "Epoch 2/5\n",
            "\u001b[1m694/694\u001b[0m \u001b[32m━━━━━━━━━━━━━━━━━━━━\u001b[0m\u001b[37m\u001b[0m \u001b[1m10s\u001b[0m 14ms/step - accuracy: 0.8609 - loss: 0.4514 - val_accuracy: 0.8648 - val_loss: 0.4329\n",
            "Epoch 3/5\n",
            "\u001b[1m694/694\u001b[0m \u001b[32m━━━━━━━━━━━━━━━━━━━━\u001b[0m\u001b[37m\u001b[0m \u001b[1m10s\u001b[0m 13ms/step - accuracy: 0.8923 - loss: 0.3442 - val_accuracy: 0.8791 - val_loss: 0.3898\n",
            "Epoch 4/5\n",
            "\u001b[1m694/694\u001b[0m \u001b[32m━━━━━━━━━━━━━━━━━━━━\u001b[0m\u001b[37m\u001b[0m \u001b[1m10s\u001b[0m 15ms/step - accuracy: 0.9074 - loss: 0.2888 - val_accuracy: 0.8835 - val_loss: 0.3736\n",
            "Epoch 5/5\n",
            "\u001b[1m694/694\u001b[0m \u001b[32m━━━━━━━━━━━━━━━━━━━━\u001b[0m\u001b[37m\u001b[0m \u001b[1m20s\u001b[0m 15ms/step - accuracy: 0.9179 - loss: 0.2509 - val_accuracy: 0.8839 - val_loss: 0.3718\n",
            "\u001b[1m116/116\u001b[0m \u001b[32m━━━━━━━━━━━━━━━━━━━━\u001b[0m\u001b[37m\u001b[0m \u001b[1m1s\u001b[0m 7ms/step - accuracy: 0.8863 - loss: 0.3644\n",
            "\n",
            "Test Accuracy (Letters): 0.8838513493537903\n",
            "\n",
            "Training model for digits...\n",
            "Epoch 1/5\n",
            "\u001b[1m1875/1875\u001b[0m \u001b[32m━━━━━━━━━━━━━━━━━━━━\u001b[0m\u001b[37m\u001b[0m \u001b[1m47s\u001b[0m 23ms/step - accuracy: 0.9351 - loss: 0.2262 - val_accuracy: 0.9819 - val_loss: 0.0608\n",
            "Epoch 2/5\n",
            "\u001b[1m1875/1875\u001b[0m \u001b[32m━━━━━━━━━━━━━━━━━━━━\u001b[0m\u001b[37m\u001b[0m \u001b[1m63s\u001b[0m 13ms/step - accuracy: 0.9841 - loss: 0.0527 - val_accuracy: 0.9869 - val_loss: 0.0428\n",
            "Epoch 3/5\n",
            "\u001b[1m1875/1875\u001b[0m \u001b[32m━━━━━━━━━━━━━━━━━━━━\u001b[0m\u001b[37m\u001b[0m \u001b[1m42s\u001b[0m 14ms/step - accuracy: 0.9883 - loss: 0.0370 - val_accuracy: 0.9873 - val_loss: 0.0419\n",
            "Epoch 4/5\n",
            "\u001b[1m1875/1875\u001b[0m \u001b[32m━━━━━━━━━━━━━━━━━━━━\u001b[0m\u001b[37m\u001b[0m \u001b[1m40s\u001b[0m 13ms/step - accuracy: 0.9909 - loss: 0.0286 - val_accuracy: 0.9881 - val_loss: 0.0408\n",
            "Epoch 5/5\n",
            "\u001b[1m1875/1875\u001b[0m \u001b[32m━━━━━━━━━━━━━━━━━━━━\u001b[0m\u001b[37m\u001b[0m \u001b[1m40s\u001b[0m 13ms/step - accuracy: 0.9927 - loss: 0.0234 - val_accuracy: 0.9876 - val_loss: 0.0429\n",
            "\u001b[1m313/313\u001b[0m \u001b[32m━━━━━━━━━━━━━━━━━━━━\u001b[0m\u001b[37m\u001b[0m \u001b[1m3s\u001b[0m 9ms/step - accuracy: 0.9879 - loss: 0.0431\n",
            "\n",
            "Test Accuracy (Digits): 0.987625002861023\n",
            "\n",
            "Example predictions for letters:\n",
            "\u001b[1m1/1\u001b[0m \u001b[32m━━━━━━━━━━━━━━━━━━━━\u001b[0m\u001b[37m\u001b[0m \u001b[1m0s\u001b[0m 108ms/step\n"
          ]
        },
        {
          "output_type": "display_data",
          "data": {
            "text/plain": [
              "<Figure size 640x480 with 1 Axes>"
            ],
            "image/png": "[encoded data removed]"
          },
          "metadata": {}
        },
        {
          "output_type": "stream",
          "name": "stdout",
          "text": [
            "\n",
            "Example predictions for digits:\n",
            "\u001b[1m1/1\u001b[0m \u001b[32m━━━━━━━━━━━━━━━━━━━━\u001b[0m\u001b[37m\u001b[0m \u001b[1m0s\u001b[0m 105ms/step\n"
          ]
        },
        {
          "output_type": "display_data",
          "data": {
            "text/plain": [
              "<Figure size 640x480 with 1 Axes>"
            ],
            "image/png": "[encoded data removed]"
          },
          "metadata": {}
        }
      ],
      "source": [
        "import numpy as np\n",
        "import matplotlib.pyplot as plt\n",
        "import tensorflow as tf\n",
        "from tensorflow.keras.models import Sequential\n",
        "from tensorflow.keras.layers import Dense, Flatten\n",
        "import tensorflow_datasets as tfds\n",
        "\n",
        "(ds_train_letters, ds_test_letters), ds_info_letters = tfds.load(\n",
        "    'emnist/letters',\n",
        "    split=['train', 'test'],\n",
        "    shuffle_files=True,\n",
        "    as_supervised=True,\n",
        "    with_info=True\n",
        ")\n",
        "\n",
        "(ds_train_digits, ds_test_digits), ds_info_digits = tfds.load(\n",
        "    'emnist/digits',\n",
        "    split=['train', 'test'],\n",
        "    shuffle_files=True,\n",
        "    as_supervised=True,\n",
        "    with_info=True\n",
        ")\n",
        "\n",
        "def preprocess_letters(image, label):\n",
        "    image = tf.cast(image, tf.float32) / 255.0\n",
        "    label = tf.squeeze(label) - 1\n",
        "    label = tf.one_hot(label, 26)\n",
        "    return image, label\n",
        "\n",
        "def preprocess_digits(image, label):\n",
        "    image = tf.cast(image, tf.float32) / 255.0\n",
        "    label = tf.one_hot(label, 10)\n",
        "    return image, label\n",
        "\n",
        "ds_train_letters = ds_train_letters.map(preprocess_letters)\n",
        "ds_test_letters = ds_test_letters.map(preprocess_letters)\n",
        "\n",
        "ds_train_digits = ds_train_digits.map(preprocess_digits)\n",
        "ds_test_digits = ds_test_digits.map(preprocess_digits)\n",
        "\n",
        "model_letters = Sequential([\n",
        "    Flatten(input_shape=(28, 28, 1)),\n",
        "    Dense(256, activation='relu'),\n",
        "    Dense(128, activation='relu'),\n",
        "    Dense(26, activation='softmax')\n",
        "])\n",
        "\n",
        "model_letters.compile(\n",
        "    optimizer='adam',\n",
        "    loss='categorical_crossentropy',\n",
        "    metrics=['accuracy']\n",
        ")\n",
        "\n",
        "print(\"Training model for letters...\")\n",
        "model_letters.fit(ds_train_letters.batch(128).prefetch(1), epochs=5, validation_data=ds_test_letters.batch(128).prefetch(1))\n",
        "\n",
        "test_loss_letters, test_acc_letters = model_letters.evaluate(ds_test_letters.batch(128).prefetch(1))\n",
        "print(\"\\nTest Accuracy (Letters):\", test_acc_letters)\n",
        "\n",
        "model_digits = Sequential([\n",
        "    Flatten(input_shape=(28, 28, 1)),\n",
        "    Dense(256, activation='relu'),\n",
        "    Dense(128, activation='relu'),\n",
        "    Dense(10, activation='softmax')\n",
        "])\n",
        "\n",
        "model_digits.compile(\n",
        "    optimizer='adam',\n",
        "    loss='categorical_crossentropy',\n",
        "    metrics=['accuracy']\n",
        ")\n",
        "\n",
        "print(\"\\nTraining model for digits...\")\n",
        "model_digits.fit(ds_train_digits.batch(128).prefetch(1), epochs=5, validation_data=ds_test_digits.batch(128).prefetch(1))\n",
        "\n",
        "test_loss_digits, test_acc_digits = model_digits.evaluate(ds_test_digits.batch(128).prefetch(1))\n",
        "print(\"\\nTest Accuracy (Digits):\", test_acc_digits)\n",
        "\n",
        "print(\"\\nExample predictions for letters:\")\n",
        "for images, labels in ds_test_letters.take(1).batch(3):\n",
        "    preds = model_letters.predict(images)\n",
        "    for i, image in enumerate(images):\n",
        "        plt.imshow(tf.squeeze(image), cmap='gray')\n",
        "        predicted_label = chr(np.argmax(preds[i]) + 65)\n",
        "        plt.title(f\"Predicted: {predicted_label}\")\n",
        "        plt.axis('off')\n",
        "        plt.show()\n",
        "\n",
        "print(\"\\nExample predictions for digits:\")\n",
        "for images, labels in ds_test_digits.take(1).batch(3):\n",
        "    preds = model_digits.predict(images)\n",
        "    for i, image in enumerate(images):\n",
        "        plt.imshow(tf.squeeze(image), cmap='gray')\n",
        "        predicted_label = np.argmax(preds[i])\n",
        "        plt.title(f\"Predicted: {predicted_label}\")\n",
        "        plt.axis('off')\n",
        "        plt.show()"
      ]
    },
    {
      "cell_type": "markdown",
      "metadata": {
        "id": "be3b5b38"
      },
      "source": [
        "# Task\n",
        "Upload the code from the current Colab notebook to a specified GitHub repository."
      ]
    },
    {
      "cell_type": "markdown",
      "metadata": {
        "id": "e0b14124"
      },
      "source": [
        "## Set up git in colab\n",
        "\n",
        "### Subtask:\n",
        "Install Git and configure your Git identity (username and email).\n"
      ]
    },
    {
      "cell_type": "markdown",
      "metadata": {
        "id": "36abb4b3"
      },
      "source": [
        "**Reasoning**:\n",
        "The subtask requires installing and configuring Git. I will use shell commands to achieve this.\n",
        "\n"
      ]
    },
    {
      "cell_type": "markdown",
      "metadata": {
        "id": "003d22dc"
      },
      "source": [
        "# Task\n",
        "Train and evaluate two separate models using TensorFlow and Keras: one for classifying digits from the EMNIST digits dataset and another for classifying letters from the EMNIST letters dataset. After training, evaluate both models on their respective test sets and print the test accuracy. Finally, visualize the first 5 predictions of the letters model on the letters test set."
      ]
    },
    {
      "cell_type": "markdown",
      "metadata": {
        "id": "4a0eb51a"
      },
      "source": [
        "## Load emnist digits dataset\n",
        "\n",
        "### Subtask:\n",
        "Load the EMNIST digits dataset.\n"
      ]
    },
    {
      "cell_type": "markdown",
      "metadata": {
        "id": "a1e889bc"
      },
      "source": [
        "**Reasoning**:\n",
        "The subtask is to load the EMNIST digits dataset. I will use the `tfds.load` function with the specified parameters to load the dataset and its information.\n",
        "\n"
      ]
    }
  ]
}